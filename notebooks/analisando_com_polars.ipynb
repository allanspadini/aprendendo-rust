{
 "cells": [
  {
   "cell_type": "markdown",
   "metadata": {},
   "source": [
    "# Aula 1"
   ]
  },
  {
   "cell_type": "markdown",
   "metadata": {},
   "source": [
    "## Vídeo 1.2"
   ]
  },
  {
   "cell_type": "markdown",
   "metadata": {},
   "source": [
    "Passo a passo de instalação dos notebooks para rust\n",
    "\n",
    "Passo 1: `cargo install evcxr_jupyter`\n",
    "\n",
    "Passo 2: `evcxr_jupyter --install`"
   ]
  },
  {
   "cell_type": "code",
   "execution_count": 4,
   "metadata": {
    "vscode": {
     "languageId": "rust"
    }
   },
   "outputs": [
    {
     "name": "stdout",
     "output_type": "stream",
     "text": [
      "Olá notebook!\n"
     ]
    }
   ],
   "source": [
    "println!(\"Olá notebook!\");"
   ]
  },
  {
   "cell_type": "markdown",
   "metadata": {},
   "source": [
    "## Vídeo 1.3"
   ]
  },
  {
   "cell_type": "code",
   "execution_count": 8,
   "metadata": {
    "vscode": {
     "languageId": "rust"
    }
   },
   "outputs": [],
   "source": [
    ":dep polars = {version = \"0.38.3\"}\n",
    "\n",
    "extern crate polars;"
   ]
  },
  {
   "cell_type": "code",
   "execution_count": 12,
   "metadata": {
    "vscode": {
     "languageId": "rust"
    }
   },
   "outputs": [],
   "source": [
    "use polars::prelude::*;"
   ]
  },
  {
   "cell_type": "code",
   "execution_count": 17,
   "metadata": {
    "vscode": {
     "languageId": "rust"
    }
   },
   "outputs": [],
   "source": [
    "let df = CsvReader::from_path(\"tortilla_prices.csv\").unwrap().finish().unwrap();"
   ]
  },
  {
   "cell_type": "markdown",
   "metadata": {},
   "source": [
    "Vamos decompor o comando:\n",
    "\n",
    "1. `CsvReader::from_path(\"foo.csv\")`: Cria um leitor de CSV a partir de um arquivo. Este método retorna um `Result`. Se a leitura for bem-sucedida, o `Result` é `Ok` contendo o leitor configurado. Se falhar, por exemplo, se o arquivo não existir, ele retorna um `Err`.\n",
    "\n",
    "2. O primeiro `.unwrap()`: Tenta desembrulhar o `Result` retornado por `from_path`. Se `from_path` retornou `Ok`, `unwrap` extrai o leitor de CSV do `Ok`. Se foi `Err`, `unwrap` causa um pânico.\n",
    "\n",
    "3. `.finish()`: Este método é chamado no leitor de CSV configurado (assumindo que `from_path` foi bem-sucedido) para consumir o leitor e tentar construir o `DataFrame`. Ele também retorna um `Result`. Se a leitura e a conversão dos dados forem bem-sucedidas, ele retorna `Ok` contendo o `DataFrame`. Se houver um erro ao ler os dados ou ao construí-los em um `DataFrame`, retorna `Err`.\n",
    "\n",
    "4. O segundo `.unwrap()`: Este `unwrap` é aplicado ao resultado de `finish()`. Se `finish()` foi bem-sucedido, este `unwrap` extrai o `DataFrame` do `Ok`. Se `finish()` retornou `Err`, este `unwrap` causa um pânico.\n",
    "\n",
    "Resumindo, esse comando tenta ler um arquivo CSV e construir um `DataFrame` a partir dele, abortando a execução do programa se algo der errado em qualquer uma das etapas. É uma abordagem comum em scripts ou programas onde um erro em ler o arquivo ou construir o `DataFrame` é considerado fatal e não há necessidade de recuperação ou tratamento de erros mais sofisticado."
   ]
  },
  {
   "cell_type": "code",
   "execution_count": 18,
   "metadata": {
    "vscode": {
     "languageId": "rust"
    }
   },
   "outputs": [
    {
     "data": {
      "text/plain": [
       "shape: (278_886, 7)\n",
       "┌─────────────────────┬────────────────┬──────┬───────┬─────┬───────────────────┬───────────┐\n",
       "│ State               ┆ City           ┆ Year ┆ Month ┆ Day ┆ Store type        ┆ Price per │\n",
       "│ ---                 ┆ ---            ┆ ---  ┆ ---   ┆ --- ┆ ---               ┆ kilogram  │\n",
       "│ str                 ┆ str            ┆ i64  ┆ i64   ┆ i64 ┆ str               ┆ ---       │\n",
       "│                     ┆                ┆      ┆       ┆     ┆                   ┆ f64       │\n",
       "╞═════════════════════╪════════════════╪══════╪═══════╪═════╪═══════════════════╪═══════════╡\n",
       "│ Aguascalientes      ┆ Aguascalientes ┆ 2007 ┆ 1     ┆ 10  ┆ Mom and Pop Store ┆ 9.9       │\n",
       "│ Baja California     ┆ Mexicali       ┆ 2007 ┆ 1     ┆ 10  ┆ Mom and Pop Store ┆ null      │\n",
       "│ Baja California     ┆ Tijuana        ┆ 2007 ┆ 1     ┆ 10  ┆ Mom and Pop Store ┆ 10.0      │\n",
       "│ Baja California Sur ┆ La Paz         ┆ 2007 ┆ 1     ┆ 10  ┆ Mom and Pop Store ┆ 10.0      │\n",
       "│ Campeche            ┆ Campeche       ┆ 2007 ┆ 1     ┆ 10  ┆ Mom and Pop Store ┆ 10.0      │\n",
       "│ …                   ┆ …              ┆ …    ┆ …     ┆ …   ┆ …                 ┆ …         │\n",
       "│ Veracruz            ┆ Coatzacoalcos  ┆ 2024 ┆ 3     ┆ 1   ┆ Big Retail Store  ┆ 12.5      │\n",
       "│ Veracruz            ┆ Veracruz       ┆ 2024 ┆ 3     ┆ 1   ┆ Big Retail Store  ┆ 13.57     │\n",
       "│ Veracruz            ┆ Xalapa         ┆ 2024 ┆ 3     ┆ 1   ┆ Big Retail Store  ┆ 13.97     │\n",
       "│ Yucatán             ┆ Mérida         ┆ 2024 ┆ 3     ┆ 1   ┆ Big Retail Store  ┆ 13.2      │\n",
       "│ Zacatecas           ┆ Zacatecas      ┆ 2024 ┆ 3     ┆ 1   ┆ Big Retail Store  ┆ 13.33     │\n",
       "└─────────────────────┴────────────────┴──────┴───────┴─────┴───────────────────┴───────────┘"
      ]
     },
     "execution_count": 18,
     "metadata": {},
     "output_type": "execute_result"
    }
   ],
   "source": [
    "df"
   ]
  },
  {
   "cell_type": "markdown",
   "metadata": {},
   "source": []
  }
 ],
 "metadata": {
  "kernelspec": {
   "display_name": "Rust",
   "language": "rust",
   "name": "rust"
  },
  "language_info": {
   "codemirror_mode": "rust",
   "file_extension": ".rs",
   "mimetype": "text/rust",
   "name": "Rust",
   "pygment_lexer": "rust",
   "version": ""
  }
 },
 "nbformat": 4,
 "nbformat_minor": 2
}
