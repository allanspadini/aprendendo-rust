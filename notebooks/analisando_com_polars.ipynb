{
 "cells": [
  {
   "cell_type": "markdown",
   "metadata": {},
   "source": [
    "# Aula 1 - Introdução ao Rust e Polars"
   ]
  },
  {
   "cell_type": "markdown",
   "metadata": {},
   "source": [
    "## Vídeo 1.2 - Configurando o Ambiente de Desenvolvimento em Rust"
   ]
  },
  {
   "cell_type": "markdown",
   "metadata": {},
   "source": [
    "Passo a passo de instalação dos notebooks para rust\n",
    "\n",
    "Passo 1: `cargo install evcxr_jupyter`\n",
    "\n",
    "Passo 2: `evcxr_jupyter --install`"
   ]
  },
  {
   "cell_type": "code",
   "execution_count": 2,
   "metadata": {
    "vscode": {
     "languageId": "rust"
    }
   },
   "outputs": [
    {
     "name": "stdout",
     "output_type": "stream",
     "text": [
      "Olá notebook!\n"
     ]
    }
   ],
   "source": [
    "println!(\"Olá notebook!\");"
   ]
  },
  {
   "cell_type": "markdown",
   "metadata": {},
   "source": [
    "## Vídeo 1.3 - Introdução à Polars e Leitura de Dados"
   ]
  },
  {
   "cell_type": "code",
   "execution_count": 3,
   "metadata": {
    "vscode": {
     "languageId": "rust"
    }
   },
   "outputs": [],
   "source": [
    ":dep polars = {version = \"0.38.3\"}\n",
    "\n",
    "extern crate polars;"
   ]
  },
  {
   "cell_type": "code",
   "execution_count": 4,
   "metadata": {
    "vscode": {
     "languageId": "rust"
    }
   },
   "outputs": [],
   "source": [
    "use polars::prelude::*;"
   ]
  },
  {
   "cell_type": "code",
   "execution_count": 5,
   "metadata": {
    "vscode": {
     "languageId": "rust"
    }
   },
   "outputs": [],
   "source": [
    "let df = CsvReader::from_path(\"tortilla_prices.csv\").unwrap().finish().unwrap();"
   ]
  },
  {
   "cell_type": "markdown",
   "metadata": {},
   "source": [
    "Vamos decompor o comando:\n",
    "\n",
    "1. `CsvReader::from_path(\"foo.csv\")`: Cria um leitor de CSV a partir de um arquivo. Este método retorna um `Result`. Se a leitura for bem-sucedida, o `Result` é `Ok` contendo o leitor configurado. Se falhar, por exemplo, se o arquivo não existir, ele retorna um `Err`.\n",
    "\n",
    "2. O primeiro `.unwrap()`: Tenta desembrulhar o `Result` retornado por `from_path`. Se `from_path` retornou `Ok`, `unwrap` extrai o leitor de CSV do `Ok`. Se foi `Err`, `unwrap` causa um pânico.\n",
    "\n",
    "3. `.finish()`: Este método é chamado no leitor de CSV configurado (assumindo que `from_path` foi bem-sucedido) para consumir o leitor e tentar construir o `DataFrame`. Ele também retorna um `Result`. Se a leitura e a conversão dos dados forem bem-sucedidas, ele retorna `Ok` contendo o `DataFrame`. Se houver um erro ao ler os dados ou ao construí-los em um `DataFrame`, retorna `Err`.\n",
    "\n",
    "4. O segundo `.unwrap()`: Este `unwrap` é aplicado ao resultado de `finish()`. Se `finish()` foi bem-sucedido, este `unwrap` extrai o `DataFrame` do `Ok`. Se `finish()` retornou `Err`, este `unwrap` causa um pânico.\n",
    "\n",
    "Resumindo, esse comando tenta ler um arquivo CSV e construir um `DataFrame` a partir dele, abortando a execução do programa se algo der errado em qualquer uma das etapas. É uma abordagem comum em scripts ou programas onde um erro em ler o arquivo ou construir o `DataFrame` é considerado fatal e não há necessidade de recuperação ou tratamento de erros mais sofisticado."
   ]
  },
  {
   "cell_type": "code",
   "execution_count": 15,
   "metadata": {
    "vscode": {
     "languageId": "rust"
    }
   },
   "outputs": [
    {
     "data": {
      "text/plain": [
       "shape: (5, 7)\n",
       "┌─────────────────────┬────────────────┬──────┬───────┬─────┬───────────────────┬───────────┐\n",
       "│ State               ┆ City           ┆ Year ┆ Month ┆ Day ┆ Store type        ┆ Price per │\n",
       "│ ---                 ┆ ---            ┆ ---  ┆ ---   ┆ --- ┆ ---               ┆ kilogram  │\n",
       "│ str                 ┆ str            ┆ i64  ┆ i64   ┆ i64 ┆ str               ┆ ---       │\n",
       "│                     ┆                ┆      ┆       ┆     ┆                   ┆ f64       │\n",
       "╞═════════════════════╪════════════════╪══════╪═══════╪═════╪═══════════════════╪═══════════╡\n",
       "│ Aguascalientes      ┆ Aguascalientes ┆ 2007 ┆ 1     ┆ 10  ┆ Mom and Pop Store ┆ 9.9       │\n",
       "│ Baja California     ┆ Mexicali       ┆ 2007 ┆ 1     ┆ 10  ┆ Mom and Pop Store ┆ null      │\n",
       "│ Baja California     ┆ Tijuana        ┆ 2007 ┆ 1     ┆ 10  ┆ Mom and Pop Store ┆ 10.0      │\n",
       "│ Baja California Sur ┆ La Paz         ┆ 2007 ┆ 1     ┆ 10  ┆ Mom and Pop Store ┆ 10.0      │\n",
       "│ Campeche            ┆ Campeche       ┆ 2007 ┆ 1     ┆ 10  ┆ Mom and Pop Store ┆ 10.0      │\n",
       "└─────────────────────┴────────────────┴──────┴───────┴─────┴───────────────────┴───────────┘"
      ]
     },
     "execution_count": 15,
     "metadata": {},
     "output_type": "execute_result"
    }
   ],
   "source": [
    "df.head(Some(5))"
   ]
  },
  {
   "cell_type": "markdown",
   "metadata": {},
   "source": [
    "# Aula 2: Exploração e Manipulação de Dados com Polars"
   ]
  },
  {
   "cell_type": "markdown",
   "metadata": {},
   "source": [
    "## Vídeo 2.1 - Explorando o dataset com a polars"
   ]
  },
  {
   "cell_type": "code",
   "execution_count": 19,
   "metadata": {
    "vscode": {
     "languageId": "rust"
    }
   },
   "outputs": [
    {
     "ename": "Error",
     "evalue": "no method named `n_unique` found for struct `polars::prelude::DataFrame` in the current scope",
     "output_type": "error",
     "traceback": [
      "\u001b[31m[E0599] Error:\u001b[0m no method named `n_unique` found for struct `polars::prelude::DataFrame` in the current scope",
      "   \u001b[38;5;246m╭\u001b[0m\u001b[38;5;246m─\u001b[0m\u001b[38;5;246m[\u001b[0mcommand_19:1:1\u001b[38;5;246m]\u001b[0m",
      "   \u001b[38;5;246m│\u001b[0m",
      " \u001b[38;5;246m2 │\u001b[0m \u001b[38;5;249md\u001b[0m\u001b[38;5;249mf\u001b[0m\u001b[38;5;249m.\u001b[0m\u001b[38;5;54mn\u001b[0m\u001b[38;5;54m_\u001b[0m\u001b[38;5;54mu\u001b[0m\u001b[38;5;54mn\u001b[0m\u001b[38;5;54mi\u001b[0m\u001b[38;5;54mq\u001b[0m\u001b[38;5;54mu\u001b[0m\u001b[38;5;54me\u001b[0m\u001b[38;5;249m(\u001b[0m\u001b[38;5;249ms\u001b[0m\u001b[38;5;249mu\u001b[0m\u001b[38;5;249mb\u001b[0m\u001b[38;5;249ms\u001b[0m\u001b[38;5;249me\u001b[0m\u001b[38;5;249mt\u001b[0m\u001b[38;5;249m)\u001b[0m",
      " \u001b[38;5;240m  │\u001b[0m    \u001b[38;5;54m─\u001b[0m\u001b[38;5;54m─\u001b[0m\u001b[38;5;54m─\u001b[0m\u001b[38;5;54m─\u001b[0m\u001b[38;5;54m┬\u001b[0m\u001b[38;5;54m─\u001b[0m\u001b[38;5;54m─\u001b[0m\u001b[38;5;54m─\u001b[0m  ",
      " \u001b[38;5;240m  │\u001b[0m        \u001b[38;5;54m╰\u001b[0m\u001b[38;5;54m─\u001b[0m\u001b[38;5;54m─\u001b[0m\u001b[38;5;54m─\u001b[0m\u001b[38;5;54m─\u001b[0m\u001b[38;5;54m─\u001b[0m error: no method named `n_unique` found for struct `polars::prelude::DataFrame` in the current scope",
      " \u001b[38;5;240m  │\u001b[0m        \u001b[38;5;100m│\u001b[0m     ",
      " \u001b[38;5;240m  │\u001b[0m        \u001b[38;5;100m╰\u001b[0m\u001b[38;5;100m─\u001b[0m\u001b[38;5;100m─\u001b[0m\u001b[38;5;100m─\u001b[0m\u001b[38;5;100m─\u001b[0m\u001b[38;5;100m─\u001b[0m help: there is a method with a similar name: `unique`",
      "\u001b[38;5;246m───╯\u001b[0m"
     ]
    }
   ],
   "source": [
    "let subset=[\"State\",\"Year\"];\n",
    "df.n_unique(subset)"
   ]
  },
  {
   "cell_type": "markdown",
   "metadata": {},
   "source": [
    "## Vídeo 2.2 - Manipulação de dados"
   ]
  },
  {
   "cell_type": "markdown",
   "metadata": {},
   "source": [
    "\n",
    "\n",
    "### Aula 1: Introdução ao Rust e Polars\n",
    "1. **Vídeo 1.1: Introdução ao Rust para Análise de Dados**\n",
    "   - Visão geral do Rust e seus benefícios para análise de dados.\n",
    "   - Atividade: Escreva um \"Hello World\" em Rust e explore o compilador Rust.\n",
    "\n",
    "2. **Vídeo 1.2: Configurando o Ambiente de Desenvolvimento em Rust**\n",
    "   - Instalação do Rust e configuração do ambiente de desenvolvimento.\n",
    "   - Atividade: Instale o Rust e configure seu ambiente de desenvolvimento.\n",
    "\n",
    "3. **Vídeo 1.3: Introdução à Polars e Leitura de Dados**\n",
    "   - Como usar a biblioteca Polars para abrir e visualizar datasets.\n",
    "   - Atividade: Abra o dataset de preços de tortillas usando a Polars e exiba as primeiras linhas.\n",
    "\n",
    "### Aula 2: Exploração e Manipulação de Dados com Polars\n",
    "1. **Vídeo 2.1: Explorando Datasets com Polars**\n",
    "   - Técnicas de exploração de dados utilizando Polars.\n",
    "   - Atividade: Explore o dataset de tortillas, identificando tipos de dados e estatísticas básicas.\n",
    "\n",
    "2. **Vídeo 2.2: Manipulação de Dados**\n",
    "   - Transformações e manipulações básicas de dados com Polars.\n",
    "   - Atividade: Limpe e transforme o dataset de tortillas, preparando-o para análise.\n",
    "\n",
    "3. **Vídeo 2.3: Agregações e Agrupamentos**\n",
    "   - Uso de agregações e agrupamentos para sintetizar informações no dataset.\n",
    "   - Atividade: Agrupe os dados de tortillas por região e calcule o preço médio.\n",
    "\n",
    "### Aula 3: Análise de Dados com Polars\n",
    "1. **Vídeo 3.1: Análise Estatística com Polars**\n",
    "   - Aplicação de técnicas estatísticas para análise de dados.\n",
    "   - Atividade: Realize uma análise estatística descritiva do dataset de tortillas.\n",
    "\n",
    "2. **Vídeo 3.2: Visualização de Dados**\n",
    "   - Introdução à visualização de dados em Rust.\n",
    "   - Atividade: Crie gráficos para visualizar os preços das tortillas por região.\n",
    "\n",
    "3. **Vídeo 3.3: Análise de Tendências e Padrões**\n",
    "   - Identificação de tendências e padrões nos dados de tortillas.\n",
    "   - Atividade: Analise as tendências de preços das tortillas ao longo do tempo.\n",
    "\n",
    "### Aula 4: Limpeza e Preparação Avançada de Dados\n",
    "1. **Vídeo 4.1: Tratamento de Dados Faltantes**\n",
    "   - Métodos para lidar com dados faltantes em datasets.\n",
    "   - Atividade: Identifique e trate dados faltantes no dataset de tortillas.\n",
    "\n",
    "2. **Vídeo 4.2: Normalização e Transformação de Dados**\n",
    "   - Técnicas de normalização e transformação para preparação de dados.\n",
    "   - Atividade: Normalize e transforme variáveis selecionadas no dataset de tortillas.\n",
    "\n",
    "3. **Vídeo 4.3: Integração e Consolidação de Dados**\n",
    "   - Estratégias para integrar e consolidar dados de múltiplas fontes.\n",
    "   - Atividade: Integre um novo conjunto de dados ao dataset de tortillas e consolide as informações.\n",
    "\n",
    "### Aula 5: Aplicações Avançadas e Projeto Final\n",
    "1. **Vídeo 5.1: Introdução à Machine Learning com Rust**\n",
    "   - Conceitos básicos de machine learning aplicáveis usando Rust.\n",
    "   - Atividade: Prepare o dataset de tortillas para aplicar um modelo de machine learning.\n",
    "\n",
    "2. **Vídeo 5.2: Construindo Modelos Preditivos**\n",
    "   - Construção e avaliação de modelos preditivos com Rust.\n",
    "   - Atividade: Construa um modelo para prever preços de tortillas com base em características do dataset.\n",
    "\n",
    "3. **Vídeo 5.3: Projeto Final - Análise de Dados de Tortillas\n",
    "\n",
    "**\n",
    "   - Aplicação dos conceitos aprendidos em um projeto de análise de dados completo.\n",
    "   - Atividade: Realize uma análise de dados completa, da importação à apresentação dos resultados, usando o dataset de tortillas."
   ]
  },
  {
   "cell_type": "markdown",
   "metadata": {},
   "source": []
  }
 ],
 "metadata": {
  "kernelspec": {
   "display_name": "Rust",
   "language": "rust",
   "name": "rust"
  },
  "language_info": {
   "codemirror_mode": "rust",
   "file_extension": ".rs",
   "mimetype": "text/rust",
   "name": "Rust",
   "pygment_lexer": "rust",
   "version": ""
  }
 },
 "nbformat": 4,
 "nbformat_minor": 2
}
